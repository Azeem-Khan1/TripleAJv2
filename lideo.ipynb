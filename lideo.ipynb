{
 "cells": [
  {
   "cell_type": "code",
   "execution_count": 8,
   "metadata": {},
   "outputs": [
    {
     "ename": "ModuleNotFoundError",
     "evalue": "No module named 'bs4'",
     "output_type": "error",
     "traceback": [
      "\u001b[0;31m---------------------------------------------------------------------------\u001b[0m",
      "\u001b[0;31mModuleNotFoundError\u001b[0m                       Traceback (most recent call last)",
      "\u001b[1;32m/home/akshat1228/vscode/TripleAJv2/lideo.ipynb Cell 1\u001b[0m in \u001b[0;36m<cell line: 2>\u001b[0;34m()\u001b[0m\n\u001b[1;32m      <a href='vscode-notebook-cell://wsl%2Bubuntu/home/akshat1228/vscode/TripleAJv2/lideo.ipynb#W3sdnNjb2RlLXJlbW90ZQ%3D%3D?line=0'>1</a>\u001b[0m \u001b[39mimport\u001b[39;00m \u001b[39mrequests\u001b[39;00m\n\u001b[0;32m----> <a href='vscode-notebook-cell://wsl%2Bubuntu/home/akshat1228/vscode/TripleAJv2/lideo.ipynb#W3sdnNjb2RlLXJlbW90ZQ%3D%3D?line=1'>2</a>\u001b[0m \u001b[39mfrom\u001b[39;00m \u001b[39mbs4\u001b[39;00m \u001b[39mimport\u001b[39;00m BeautifulSoup\n\u001b[1;32m      <a href='vscode-notebook-cell://wsl%2Bubuntu/home/akshat1228/vscode/TripleAJv2/lideo.ipynb#W3sdnNjb2RlLXJlbW90ZQ%3D%3D?line=3'>4</a>\u001b[0m \u001b[39mdef\u001b[39;00m \u001b[39mget_upcoming_ipos\u001b[39m():\n\u001b[1;32m      <a href='vscode-notebook-cell://wsl%2Bubuntu/home/akshat1228/vscode/TripleAJv2/lideo.ipynb#W3sdnNjb2RlLXJlbW90ZQ%3D%3D?line=4'>5</a>\u001b[0m   \u001b[39m# Send an HTTP GET request to the NASDAQ website to retrieve a list of upcoming IPOs\u001b[39;00m\n\u001b[1;32m      <a href='vscode-notebook-cell://wsl%2Bubuntu/home/akshat1228/vscode/TripleAJv2/lideo.ipynb#W3sdnNjb2RlLXJlbW90ZQ%3D%3D?line=5'>6</a>\u001b[0m   response \u001b[39m=\u001b[39m requests\u001b[39m.\u001b[39mget(\u001b[39m'\u001b[39m\u001b[39mhttps://www.nasdaq.com/market-activity/ipos\u001b[39m\u001b[39m'\u001b[39m)\n",
      "\u001b[0;31mModuleNotFoundError\u001b[0m: No module named 'bs4'"
     ]
    }
   ],
   "source": [
    "import requests\n",
    "from bs4 import BeautifulSoup\n",
    "\n",
    "def get_upcoming_ipos():\n",
    "  # Send an HTTP GET request to the NASDAQ website to retrieve a list of upcoming IPOs\n",
    "  response = requests.get('https://www.nasdaq.com/market-activity/ipos')\n",
    "\n",
    "  # Parse the HTML of the response to extract the list of upcoming IPOs\n",
    "  soup = BeautifulSoup(response.text, 'html.parser')\n",
    "  ipo_list_items = soup.find_all('div', class_='ipo-item')\n",
    "\n",
    "  # Iterate through the list of IPO list items and extract the relevant information for each IPO\n",
    "  for item in ipo_list_items:\n",
    "    name = item.find('div', class_='company-name').text\n",
    "    symbol = item.find('div', class_='ticker-symbol').text\n",
    "    price_range = item.find('div', class_='price-range').text\n",
    "    offer_date = item.find('div', class_='offering-date').text\n",
    "\n",
    "    # Print the information for each IPO\n",
    "    print(f'{name} ({symbol}) - Price Range: {price_range} - Offer Date: {offer_date}')\n",
    "\n",
    "# Call the function to retrieve and print the list of upcoming IPOs\n",
    "get_upcoming_ipos()"
   ]
  },
  {
   "cell_type": "code",
   "execution_count": 7,
   "metadata": {},
   "outputs": [
    {
     "ename": "ModuleNotFoundError",
     "evalue": "No module named 'bs4'",
     "output_type": "error",
     "traceback": [
      "\u001b[0;31m---------------------------------------------------------------------------\u001b[0m",
      "\u001b[0;31mModuleNotFoundError\u001b[0m                       Traceback (most recent call last)",
      "\u001b[1;32m/home/akshat1228/vscode/TripleAJv2/lideo.ipynb Cell 2\u001b[0m in \u001b[0;36m<cell line: 5>\u001b[0;34m()\u001b[0m\n\u001b[1;32m      <a href='vscode-notebook-cell://wsl%2Bubuntu/home/akshat1228/vscode/TripleAJv2/lideo.ipynb#W4sdnNjb2RlLXJlbW90ZQ%3D%3D?line=2'>3</a>\u001b[0m \u001b[39mimport\u001b[39;00m \u001b[39mcalendar\u001b[39;00m\n\u001b[1;32m      <a href='vscode-notebook-cell://wsl%2Bubuntu/home/akshat1228/vscode/TripleAJv2/lideo.ipynb#W4sdnNjb2RlLXJlbW90ZQ%3D%3D?line=3'>4</a>\u001b[0m \u001b[39mimport\u001b[39;00m \u001b[39mrequests\u001b[39;00m\n\u001b[0;32m----> <a href='vscode-notebook-cell://wsl%2Bubuntu/home/akshat1228/vscode/TripleAJv2/lideo.ipynb#W4sdnNjb2RlLXJlbW90ZQ%3D%3D?line=4'>5</a>\u001b[0m \u001b[39mfrom\u001b[39;00m \u001b[39mbs4\u001b[39;00m \u001b[39mimport\u001b[39;00m BeautifulSoup\n\u001b[1;32m      <a href='vscode-notebook-cell://wsl%2Bubuntu/home/akshat1228/vscode/TripleAJv2/lideo.ipynb#W4sdnNjb2RlLXJlbW90ZQ%3D%3D?line=6'>7</a>\u001b[0m \u001b[39mdef\u001b[39;00m \u001b[39mget_upcoming_ipos\u001b[39m():\n\u001b[1;32m      <a href='vscode-notebook-cell://wsl%2Bubuntu/home/akshat1228/vscode/TripleAJv2/lideo.ipynb#W4sdnNjb2RlLXJlbW90ZQ%3D%3D?line=7'>8</a>\u001b[0m   response \u001b[39m=\u001b[39m requests\u001b[39m.\u001b[39mget(\u001b[39m'\u001b[39m\u001b[39mhttps://www.nasdaq.com/market-activity/ipos\u001b[39m\u001b[39m'\u001b[39m)\n",
      "\u001b[0;31mModuleNotFoundError\u001b[0m: No module named 'bs4'"
     ]
    }
   ],
   "source": [
    "# CODE B\n",
    "\n",
    "import calendar\n",
    "import requests\n",
    "from bs4 import BeautifulSoup\n",
    "\n",
    "def get_upcoming_ipos():\n",
    "  response = requests.get('https://www.nasdaq.com/market-activity/ipos')\n",
    "\n",
    "  soup = BeautifulSoup(response.text, 'html.parser')\n",
    "  ipo_list_items = soup.find_all('div', class_='ipo-item')\n",
    "\n",
    "  ipos = {}\n",
    "  \n",
    "  for item in ipo_list_items:\n",
    "    name = item.find('div', class_='company-name').text\n",
    "    symbol = item.find('div', class_='ticker-symbol').text\n",
    "    price_range = item.find('div', class_='price-range').text\n",
    "    offer_date = item.find('div', class_='offering-date').text\n",
    "\n",
    "    # Add the IPO information\n",
    "    ipos[offer_date] = (name, symbol, price_range)\n",
    "\n",
    "  return ipos\n",
    "\n",
    "upcoming_ipos = get_upcoming_ipos()\n",
    "\n",
    "# calendar \n",
    "c = calendar.Calendar()\n",
    "\n",
    "for month in range(1, 13):\n",
    "  print(c.formatmonth(2022, month))\n",
    "  \n",
    "  # Iterate through the days of the month\n",
    "  for day, week in c.itermonthdays2(2022, month):\n",
    "    # Check if the day is within the current month\n",
    "    if day > 0:\n",
    "      # Check if there is an IPO scheduled for the current day\n",
    "      ipo = upcoming_ipos.get(f'{month}/{day}/{year}')\n",
    "      if ipo:\n",
    "        # Print the IPO information for the current day\n",
    "        name, symbol, price_range = ipo\n",
    "        print(f'{month}/{day}: {name} ({symbol}) - Price Range: {price_range}')\n",
    "\n"
   ]
  }
 ],
 "metadata": {
  "kernelspec": {
   "display_name": "Python 3",
   "language": "python",
   "name": "python3"
  },
  "language_info": {
   "codemirror_mode": {
    "name": "ipython",
    "version": 3
   },
   "file_extension": ".py",
   "mimetype": "text/x-python",
   "name": "python",
   "nbconvert_exporter": "python",
   "pygments_lexer": "ipython3",
   "version": "3.8.10"
  },
  "orig_nbformat": 4,
  "vscode": {
   "interpreter": {
    "hash": "916dbcbb3f70747c44a77c7bcd40155683ae19c65e1c03b4aa3499c5328201f1"
   }
  }
 },
 "nbformat": 4,
 "nbformat_minor": 2
}
